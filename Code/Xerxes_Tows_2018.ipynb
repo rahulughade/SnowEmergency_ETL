{
 "cells": [
  {
   "cell_type": "markdown",
   "metadata": {},
   "source": [
    "# Load the libraries"
   ]
  },
  {
   "cell_type": "code",
   "execution_count": 2,
   "metadata": {},
   "outputs": [
    {
     "name": "stdout",
     "output_type": "stream",
     "text": [
      "Requirement already satisfied: mysqlclient in c:\\programdata\\anaconda3\\lib\\site-packages (1.4.2.post1)\n"
     ]
    }
   ],
   "source": [
    "!pip install mysqlclient\n",
    "import pandas as pd\n",
    "from sqlalchemy import create_engine"
   ]
  },
  {
   "cell_type": "markdown",
   "metadata": {},
   "source": [
    "### Store CSV into DataFrame\n"
   ]
  },
  {
   "cell_type": "code",
   "execution_count": 3,
   "metadata": {},
   "outputs": [
    {
     "data": {
      "text/html": [
       "<div>\n",
       "<style scoped>\n",
       "    .dataframe tbody tr th:only-of-type {\n",
       "        vertical-align: middle;\n",
       "    }\n",
       "\n",
       "    .dataframe tbody tr th {\n",
       "        vertical-align: top;\n",
       "    }\n",
       "\n",
       "    .dataframe thead th {\n",
       "        text-align: right;\n",
       "    }\n",
       "</style>\n",
       "<table border=\"1\" class=\"dataframe\">\n",
       "  <thead>\n",
       "    <tr style=\"text-align: right;\">\n",
       "      <th></th>\n",
       "      <th>X</th>\n",
       "      <th>Y</th>\n",
       "      <th>FID</th>\n",
       "      <th>Call_Taken</th>\n",
       "      <th>Customer</th>\n",
       "      <th>Location</th>\n",
       "      <th>Latitude</th>\n",
       "      <th>Longitude</th>\n",
       "      <th>Snow_Emerg</th>\n",
       "      <th>Day</th>\n",
       "      <th>Ward</th>\n",
       "      <th>Neighborho</th>\n",
       "      <th>Community</th>\n",
       "      <th>Tow_Dist</th>\n",
       "    </tr>\n",
       "  </thead>\n",
       "  <tbody>\n",
       "    <tr>\n",
       "      <th>0</th>\n",
       "      <td>-93.249046</td>\n",
       "      <td>44.984485</td>\n",
       "      <td>1</td>\n",
       "      <td>02/24/2018 12:20am</td>\n",
       "      <td>Snow Emergency</td>\n",
       "      <td>299 5th ave se,Minneapolis,MN</td>\n",
       "      <td>44.984485</td>\n",
       "      <td>-93.249046</td>\n",
       "      <td>Xerxes</td>\n",
       "      <td>1</td>\n",
       "      <td>3</td>\n",
       "      <td>Marcy Holmes</td>\n",
       "      <td>University</td>\n",
       "      <td>4</td>\n",
       "    </tr>\n",
       "    <tr>\n",
       "      <th>1</th>\n",
       "      <td>-93.262311</td>\n",
       "      <td>44.947508</td>\n",
       "      <td>2</td>\n",
       "      <td>02/23/2018 10:30pm</td>\n",
       "      <td>Snow Emergency</td>\n",
       "      <td>3025 Chicago Ave S,Minneapolis,MN</td>\n",
       "      <td>44.947508</td>\n",
       "      <td>-93.262311</td>\n",
       "      <td>Xerxes</td>\n",
       "      <td>1</td>\n",
       "      <td>9</td>\n",
       "      <td>Powderhorn Park</td>\n",
       "      <td>Powderhorn</td>\n",
       "      <td>6</td>\n",
       "    </tr>\n",
       "    <tr>\n",
       "      <th>2</th>\n",
       "      <td>-93.241708</td>\n",
       "      <td>44.986318</td>\n",
       "      <td>3</td>\n",
       "      <td>02/24/2018 12:20pm</td>\n",
       "      <td>Snow Emergency</td>\n",
       "      <td>620 8th ave se,Minneapolis,MN</td>\n",
       "      <td>44.986318</td>\n",
       "      <td>-93.241708</td>\n",
       "      <td>Xerxes</td>\n",
       "      <td>2</td>\n",
       "      <td>3</td>\n",
       "      <td>Marcy Holmes</td>\n",
       "      <td>University</td>\n",
       "      <td>4</td>\n",
       "    </tr>\n",
       "    <tr>\n",
       "      <th>3</th>\n",
       "      <td>-93.262193</td>\n",
       "      <td>44.927397</td>\n",
       "      <td>4</td>\n",
       "      <td>02/23/2018 11:10pm</td>\n",
       "      <td>Snow Emergency</td>\n",
       "      <td>4145 CHICAGO AVE S,Minneapolis,MN</td>\n",
       "      <td>44.927397</td>\n",
       "      <td>-93.262193</td>\n",
       "      <td>Xerxes</td>\n",
       "      <td>1</td>\n",
       "      <td>8</td>\n",
       "      <td>Bancroft</td>\n",
       "      <td>Powderhorn</td>\n",
       "      <td>6</td>\n",
       "    </tr>\n",
       "    <tr>\n",
       "      <th>4</th>\n",
       "      <td>-93.262498</td>\n",
       "      <td>44.927287</td>\n",
       "      <td>5</td>\n",
       "      <td>02/23/2018 11:11pm</td>\n",
       "      <td>Snow Emergency</td>\n",
       "      <td>4146 Chicago Ave S,Minneapolis,MN</td>\n",
       "      <td>44.927287</td>\n",
       "      <td>-93.262498</td>\n",
       "      <td>Xerxes</td>\n",
       "      <td>1</td>\n",
       "      <td>8</td>\n",
       "      <td>Bancroft</td>\n",
       "      <td>Powderhorn</td>\n",
       "      <td>6</td>\n",
       "    </tr>\n",
       "  </tbody>\n",
       "</table>\n",
       "</div>"
      ],
      "text/plain": [
       "           X          Y  FID          Call_Taken        Customer  \\\n",
       "0 -93.249046  44.984485    1  02/24/2018 12:20am  Snow Emergency   \n",
       "1 -93.262311  44.947508    2  02/23/2018 10:30pm  Snow Emergency   \n",
       "2 -93.241708  44.986318    3  02/24/2018 12:20pm  Snow Emergency   \n",
       "3 -93.262193  44.927397    4  02/23/2018 11:10pm  Snow Emergency   \n",
       "4 -93.262498  44.927287    5  02/23/2018 11:11pm  Snow Emergency   \n",
       "\n",
       "                            Location   Latitude  Longitude Snow_Emerg  Day  \\\n",
       "0      299 5th ave se,Minneapolis,MN  44.984485 -93.249046     Xerxes    1   \n",
       "1  3025 Chicago Ave S,Minneapolis,MN  44.947508 -93.262311     Xerxes    1   \n",
       "2      620 8th ave se,Minneapolis,MN  44.986318 -93.241708     Xerxes    2   \n",
       "3  4145 CHICAGO AVE S,Minneapolis,MN  44.927397 -93.262193     Xerxes    1   \n",
       "4  4146 Chicago Ave S,Minneapolis,MN  44.927287 -93.262498     Xerxes    1   \n",
       "\n",
       "   Ward       Neighborho   Community  Tow_Dist  \n",
       "0     3     Marcy Holmes  University         4  \n",
       "1     9  Powderhorn Park  Powderhorn         6  \n",
       "2     3     Marcy Holmes  University         4  \n",
       "3     8         Bancroft  Powderhorn         6  \n",
       "4     8         Bancroft  Powderhorn         6  "
      ]
     },
     "execution_count": 3,
     "metadata": {},
     "output_type": "execute_result"
    }
   ],
   "source": [
    "csv_file = \"Snow_Emergency_Xerxes_Tows_2018.csv\"\n",
    "xerxes_tows_df = pd.read_csv(csv_file)\n",
    "xerxes_tows_df.head()"
   ]
  },
  {
   "cell_type": "markdown",
   "metadata": {},
   "source": [
    "### Clean DataFrame"
   ]
  },
  {
   "cell_type": "markdown",
   "metadata": {},
   "source": [
    "### Transform howe_tows DataFrame"
   ]
  },
  {
   "cell_type": "code",
   "execution_count": 4,
   "metadata": {},
   "outputs": [
    {
     "ename": "NameError",
     "evalue": "name 'FID' is not defined",
     "output_type": "error",
     "traceback": [
      "\u001b[1;31m---------------------------------------------------------------------------\u001b[0m",
      "\u001b[1;31mNameError\u001b[0m                                 Traceback (most recent call last)",
      "\u001b[1;32m<ipython-input-4-c01e14e3922d>\u001b[0m in \u001b[0;36m<module>\u001b[1;34m\u001b[0m\n\u001b[1;32m----> 1\u001b[1;33m \u001b[0mFID\u001b[0m\u001b[1;33m\u001b[0m\u001b[1;33m\u001b[0m\u001b[0m\n\u001b[0m\u001b[0;32m      2\u001b[0m \u001b[0msnow_emergency_name\u001b[0m\u001b[1;33m\u001b[0m\u001b[1;33m\u001b[0m\u001b[0m\n\u001b[0;32m      3\u001b[0m \u001b[0mdate\u001b[0m\u001b[1;33m\u001b[0m\u001b[1;33m\u001b[0m\u001b[0m\n\u001b[0;32m      4\u001b[0m \u001b[0maddress\u001b[0m\u001b[1;33m\u001b[0m\u001b[1;33m\u001b[0m\u001b[0m\n\u001b[0;32m      5\u001b[0m \u001b[0mlatitude\u001b[0m\u001b[1;33m\u001b[0m\u001b[1;33m\u001b[0m\u001b[0m\n",
      "\u001b[1;31mNameError\u001b[0m: name 'FID' is not defined"
     ]
    }
   ],
   "source": [
    "FID\n",
    "snow_emergency_name\n",
    "date\n",
    "address\n",
    "latitude\n",
    "longitude\n",
    "day_id\n",
    "ward\n",
    "neighborhood\n",
    "community\n",
    "tow_district"
   ]
  },
  {
   "cell_type": "code",
   "execution_count": null,
   "metadata": {},
   "outputs": [],
   "source": [
    "xerxes_tows_new = xerxes_tows_df[['FID','Snow_Emerg','Call_Taken','Location','Latitude','Longitude','Day','Ward','Neighborho','Community','Tow_Dist']].copy()\n",
    "xerxes_tows_new.head()"
   ]
  },
  {
   "cell_type": "code",
   "execution_count": null,
   "metadata": {
    "scrolled": true
   },
   "outputs": [],
   "source": [
    "\n",
    "# Rename the column headers\n",
    "xerxes_tows_transformed =xerxes_tows_new.rename(columns={'FID':'FID','Snow_Emerg':'snow_emergency_name',\n",
    "                                                      'Call_Taken':'date','Location':'address',\n",
    "                                                      'Latitude':'latitude','Longitude':'longitude',\n",
    "                                                      'Day':'day_id','Ward':'ward','Neighborho':'neighborhood',\n",
    "                                                      'Community':'community','Tow_Dist':'tow_district'})\n",
    "# Convert date column to datetime\n",
    "\n",
    "xerxes_tows_transformed.date = pd.to_datetime(xerxes_tows_transformed.date)\n",
    "# Set index\n",
    "xerxes_tows_transformed.set_index(\"FID\", inplace=True)\n",
    "xerxes_tows_transformed.head()"
   ]
  },
  {
   "cell_type": "markdown",
   "metadata": {},
   "source": [
    "### Connect to local database"
   ]
  },
  {
   "cell_type": "code",
   "execution_count": null,
   "metadata": {},
   "outputs": [],
   "source": [
    "rds_connection_string = 'mysql://root@localhost:3306/snow_emergency_db'\n",
    "engine = create_engine(rds_connection_string)"
   ]
  },
  {
   "cell_type": "code",
   "execution_count": null,
   "metadata": {},
   "outputs": [],
   "source": [
    "#Truncate table before loading\n",
    "from sqlalchemy.orm import sessionmaker\n",
    "Session = sessionmaker(bind=engine)\n",
    "session = Session()\n",
    "session.execute('''TRUNCATE TABLE xerxes_tows_base''')\n",
    "session.commit()\n",
    "session.close()"
   ]
  },
  {
   "cell_type": "markdown",
   "metadata": {},
   "source": [
    "### Use pandas to load csv converted DataFrame into database"
   ]
  },
  {
   "cell_type": "code",
   "execution_count": 15,
   "metadata": {},
   "outputs": [],
   "source": [
    "xerxes_tows_transformed.to_sql(name='xerxes_tows_base', con=engine, if_exists='append', index=True)"
   ]
  }
 ],
 "metadata": {
  "kernelspec": {
   "display_name": "Python 3",
   "language": "python",
   "name": "python3"
  },
  "language_info": {
   "codemirror_mode": {
    "name": "ipython",
    "version": 3
   },
   "file_extension": ".py",
   "mimetype": "text/x-python",
   "name": "python",
   "nbconvert_exporter": "python",
   "pygments_lexer": "ipython3",
   "version": "3.7.1"
  }
 },
 "nbformat": 4,
 "nbformat_minor": 2
}
